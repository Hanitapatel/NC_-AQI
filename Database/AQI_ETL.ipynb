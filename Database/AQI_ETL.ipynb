{
  "nbformat": 4,
  "nbformat_minor": 0,
  "metadata": {
    "colab": {
      "name": "AQI_ETL",
      "provenance": [],
      "collapsed_sections": []
    },
    "kernelspec": {
      "name": "python3",
      "display_name": "Python 3"
    },
    "language_info": {
      "name": "python"
    }
  },
  "cells": [
    {
      "cell_type": "code",
      "execution_count": null,
      "metadata": {
        "colab": {
          "base_uri": "https://localhost:8080/"
        },
        "id": "HwCxt_zUM6xU",
        "outputId": "6b19097a-18e6-42ac-d93f-9b3650134073"
      },
      "outputs": [
        {
          "output_type": "stream",
          "name": "stdout",
          "text": [
            "\r0% [Working]\r            \rHit:1 http://security.ubuntu.com/ubuntu bionic-security InRelease\n",
            "\r0% [Waiting for headers] [Connected to cloud.r-project.org (18.67.65.7)] [Conne\r                                                                               \rHit:2 http://archive.ubuntu.com/ubuntu bionic InRelease\n",
            "\r                                                                               \rHit:3 http://archive.ubuntu.com/ubuntu bionic-updates InRelease\n",
            "\r0% [Waiting for headers] [Connected to cloud.r-project.org (18.67.65.7)] [Waiti\r0% [1 InRelease gpgv 88.7 kB] [Waiting for headers] [Waiting for headers] [Wait\r                                                                               \rHit:4 http://archive.ubuntu.com/ubuntu bionic-backports InRelease\n",
            "Hit:5 https://cloud.r-project.org/bin/linux/ubuntu bionic-cran40/ InRelease\n",
            "Ign:6 https://developer.download.nvidia.com/compute/machine-learning/repos/ubuntu1804/x86_64  InRelease\n",
            "Hit:7 https://developer.download.nvidia.com/compute/cuda/repos/ubuntu1804/x86_64  InRelease\n",
            "Hit:8 https://developer.download.nvidia.com/compute/machine-learning/repos/ubuntu1804/x86_64  Release\n",
            "Hit:9 http://ppa.launchpad.net/c2d4u.team/c2d4u4.0+/ubuntu bionic InRelease\n",
            "Hit:10 http://ppa.launchpad.net/cran/libgit2/ubuntu bionic InRelease\n",
            "Hit:11 http://ppa.launchpad.net/deadsnakes/ppa/ubuntu bionic InRelease\n",
            "Hit:12 http://ppa.launchpad.net/graphics-drivers/ppa/ubuntu bionic InRelease\n",
            "Reading package lists... Done\n"
          ]
        }
      ],
      "source": [
        "import os\n",
        "# Find the latest version of spark 3.0 from http://www.apache.org/dist/spark/ and enter as the spark version\n",
        "# For example:\n",
        "# spark_version = 'spark-3.0.3'\n",
        "spark_version = 'spark-3.0.3'\n",
        "os.environ['SPARK_VERSION']=spark_version\n",
        "\n",
        "# Install Spark and Java\n",
        "!apt-get update\n",
        "!apt-get install openjdk-11-jdk-headless -qq > /dev/null\n",
        "!wget -q http://www.apache.org/dist/spark/$SPARK_VERSION/$SPARK_VERSION-bin-hadoop2.7.tgz\n",
        "!tar xf $SPARK_VERSION-bin-hadoop2.7.tgz\n",
        "!pip install -q findspark\n",
        "\n",
        "# Set Environment Variables\n",
        "import os\n",
        "os.environ[\"JAVA_HOME\"] = \"/usr/lib/jvm/java-11-openjdk-amd64\"\n",
        "os.environ[\"SPARK_HOME\"] = f\"/content/{spark_version}-bin-hadoop2.7\"\n",
        "\n",
        "# Start a SparkSession\n",
        "import findspark\n",
        "findspark.init()\n"
      ]
    },
    {
      "cell_type": "code",
      "source": [
        "# Download the Postgres driver that will allow Spark to interact with Postgres.\n",
        "!wget https://jdbc.postgresql.org/download/postgresql-42.2.16.jar"
      ],
      "metadata": {
        "colab": {
          "base_uri": "https://localhost:8080/"
        },
        "id": "O2t45Mk-Ojbx",
        "outputId": "f4aedb54-1719-4e5e-ec91-1c2079c77e41"
      },
      "execution_count": null,
      "outputs": [
        {
          "output_type": "stream",
          "name": "stdout",
          "text": [
            "--2022-08-10 02:50:19--  https://jdbc.postgresql.org/download/postgresql-42.2.16.jar\n",
            "Resolving jdbc.postgresql.org (jdbc.postgresql.org)... 72.32.157.228, 2001:4800:3e1:1::228\n",
            "Connecting to jdbc.postgresql.org (jdbc.postgresql.org)|72.32.157.228|:443... connected.\n",
            "HTTP request sent, awaiting response... 200 OK\n",
            "Length: 1002883 (979K) [application/java-archive]\n",
            "Saving to: ‘postgresql-42.2.16.jar.4’\n",
            "\n",
            "postgresql-42.2.16. 100%[===================>] 979.38K  5.43MB/s    in 0.2s    \n",
            "\n",
            "2022-08-10 02:50:19 (5.43 MB/s) - ‘postgresql-42.2.16.jar.4’ saved [1002883/1002883]\n",
            "\n"
          ]
        }
      ]
    },
    {
      "cell_type": "code",
      "source": [
        "from pyspark.sql import SparkSession\n",
        "spark = SparkSession.builder.appName(\"Team4-Project\").config(\"spark.driver.extraClassPath\",\"/content/postgresql-42.2.16.jar\").getOrCreate()"
      ],
      "metadata": {
        "id": "6EvPE01zOqGB"
      },
      "execution_count": null,
      "outputs": []
    },
    {
      "cell_type": "code",
      "source": [
        "# Read in data from S3 Buckets\n",
        "from pyspark import SparkFiles\n",
        "url =\"https://geisteam4-project.s3.amazonaws.com/ncaqi.csv\"\n",
        "spark.sparkContext.addFile(url)\n",
        "user_data_df = spark.read.csv(SparkFiles.get(\"ncaqi.csv\"), sep=\",\", header=True, inferSchema=True)"
      ],
      "metadata": {
        "id": "zauDByGPPKbk"
      },
      "execution_count": null,
      "outputs": []
    },
    {
      "cell_type": "code",
      "source": [
        "# Show DataFrame\n",
        "user_data_df.show()"
      ],
      "metadata": {
        "colab": {
          "base_uri": "https://localhost:8080/"
        },
        "id": "ZUfNOiTiPgSr",
        "outputId": "dc0bff16-67aa-47fa-ac45-c4ec5c4c6587"
      },
      "execution_count": null,
      "outputs": [
        {
          "output_type": "stream",
          "name": "stdout",
          "text": [
            "+----+---------+----------+----+-----+---+---+--------+------------------+-------------------------+----------+--------+--------------+-------+--------+----------+-------+----------------+\n",
            "| _c0|CBSA Code|      Date|year|month|day|AQI|Category|Defining Parameter|Number of Sites Reporting|city_ascii|state_id|    state_name|    lat|     lng|population|density|        timezone|\n",
            "+----+---------+----------+----+-----+---+---+--------+------------------+-------------------------+----------+--------+--------------+-------+--------+----------+-------+----------------+\n",
            "|4279|    16740|2022-01-01|2022|    1|  1| 28|    Good|             PM2.5|                        5| Charlotte|      NC|North Carolina|35.2083|-80.8303| 1526465.0| 1094.0|America/New_York|\n",
            "|4280|    16740|2022-01-02|2022|    1|  2| 29|    Good|             Ozone|                        5| Charlotte|      NC|North Carolina|35.2083|-80.8303| 1526465.0| 1094.0|America/New_York|\n",
            "|4281|    16740|2022-01-03|2022|    1|  3| 31|    Good|             Ozone|                        5| Charlotte|      NC|North Carolina|35.2083|-80.8303| 1526465.0| 1094.0|America/New_York|\n",
            "|4282|    16740|2022-01-04|2022|    1|  4| 31|    Good|             Ozone|                        5| Charlotte|      NC|North Carolina|35.2083|-80.8303| 1526465.0| 1094.0|America/New_York|\n",
            "|4283|    16740|2022-01-05|2022|    1|  5| 34|    Good|             Ozone|                        5| Charlotte|      NC|North Carolina|35.2083|-80.8303| 1526465.0| 1094.0|America/New_York|\n",
            "|4284|    16740|2022-01-06|2022|    1|  6| 42|    Good|             PM2.5|                        5| Charlotte|      NC|North Carolina|35.2083|-80.8303| 1526465.0| 1094.0|America/New_York|\n",
            "|4285|    16740|2022-01-07|2022|    1|  7| 32|    Good|             Ozone|                        5| Charlotte|      NC|North Carolina|35.2083|-80.8303| 1526465.0| 1094.0|America/New_York|\n",
            "|4286|    16740|2022-01-08|2022|    1|  8| 33|    Good|             PM2.5|                        5| Charlotte|      NC|North Carolina|35.2083|-80.8303| 1526465.0| 1094.0|America/New_York|\n",
            "|4287|    16740|2022-01-09|2022|    1|  9| 38|    Good|             PM2.5|                        5| Charlotte|      NC|North Carolina|35.2083|-80.8303| 1526465.0| 1094.0|America/New_York|\n",
            "|4288|    16740|2022-01-10|2022|    1| 10| 36|    Good|             Ozone|                        5| Charlotte|      NC|North Carolina|35.2083|-80.8303| 1526465.0| 1094.0|America/New_York|\n",
            "|4289|    16740|2022-01-11|2022|    1| 11| 34|    Good|             Ozone|                        5| Charlotte|      NC|North Carolina|35.2083|-80.8303| 1526465.0| 1094.0|America/New_York|\n",
            "|4290|    16740|2022-01-12|2022|    1| 12| 38|    Good|             PM2.5|                        5| Charlotte|      NC|North Carolina|35.2083|-80.8303| 1526465.0| 1094.0|America/New_York|\n",
            "|4291|    16740|2022-01-13|2022|    1| 13| 56|Moderate|             PM2.5|                        5| Charlotte|      NC|North Carolina|35.2083|-80.8303| 1526465.0| 1094.0|America/New_York|\n",
            "|4292|    16740|2022-01-14|2022|    1| 14| 44|    Good|             PM2.5|                        5| Charlotte|      NC|North Carolina|35.2083|-80.8303| 1526465.0| 1094.0|America/New_York|\n",
            "|4293|    16740|2022-01-15|2022|    1| 15| 47|    Good|             PM2.5|                        5| Charlotte|      NC|North Carolina|35.2083|-80.8303| 1526465.0| 1094.0|America/New_York|\n",
            "|4294|    16740|2022-01-16|2022|    1| 16| 31|    Good|             Ozone|                        5| Charlotte|      NC|North Carolina|35.2083|-80.8303| 1526465.0| 1094.0|America/New_York|\n",
            "|4295|    16740|2022-01-17|2022|    1| 17| 35|    Good|             Ozone|                        5| Charlotte|      NC|North Carolina|35.2083|-80.8303| 1526465.0| 1094.0|America/New_York|\n",
            "|4296|    16740|2022-01-18|2022|    1| 18| 35|    Good|             Ozone|                        5| Charlotte|      NC|North Carolina|35.2083|-80.8303| 1526465.0| 1094.0|America/New_York|\n",
            "|4297|    16740|2022-01-19|2022|    1| 19| 48|    Good|             PM2.5|                        5| Charlotte|      NC|North Carolina|35.2083|-80.8303| 1526465.0| 1094.0|America/New_York|\n",
            "|4298|    16740|2022-01-20|2022|    1| 20| 43|    Good|             PM2.5|                        5| Charlotte|      NC|North Carolina|35.2083|-80.8303| 1526465.0| 1094.0|America/New_York|\n",
            "+----+---------+----------+----+-----+---+---+--------+------------------+-------------------------+----------+--------+--------------+-------+--------+----------+-------+----------------+\n",
            "only showing top 20 rows\n",
            "\n"
          ]
        }
      ]
    },
    {
      "cell_type": "code",
      "source": [
        "# Print our schema\n",
        "user_data_df.printSchema"
      ],
      "metadata": {
        "colab": {
          "base_uri": "https://localhost:8080/"
        },
        "id": "5QHezuHmjcrh",
        "outputId": "e00b863d-823c-49b9-8e13-6e4ba32ae946"
      },
      "execution_count": null,
      "outputs": [
        {
          "output_type": "execute_result",
          "data": {
            "text/plain": [
              "<bound method DataFrame.printSchema of DataFrame[_c0: int, CBSA Code: int, Date: string, year: int, month: int, day: int, AQI: int, Category: string, Defining Parameter: string, Number of Sites Reporting: int, city_ascii: string, state_id: string, state_name: string, lat: double, lng: double, population: double, density: double, timezone: string]>"
            ]
          },
          "metadata": {},
          "execution_count": 140
        }
      ]
    },
    {
      "cell_type": "code",
      "source": [
        "# Import struct fields that we can use\n",
        "from pyspark.sql.types import StructField, StringType, IntegerType, StructType, DateType, DecimalType, FloatType"
      ],
      "metadata": {
        "id": "JXFJixgSjotW"
      },
      "execution_count": null,
      "outputs": []
    },
    {
      "cell_type": "code",
      "source": [
        "# Create the list of struct fields\n",
        "schema = [StructField(\"_c0\",IntegerType(),False),StructField(\"CBSA Code\", IntegerType(),False), StructField(\"Date\", DateType(),False), StructField(\"year\",IntegerType(), False), StructField(\"month\",StringType(), False),StructField(\"day\",IntegerType(),False), StructField(\"AQI\", IntegerType(), False), StructField(\"Category\",StringType(), False), StructField(\"Defining Parameter\",StringType(),False), StructField(\"Number of Sites Reporting\",IntegerType(),False), StructField(\"city_ascii\",StringType(),False), StructField(\"state_id\",StringType(),False),StructField(\"state_name\",StringType(),False), StructField(\"lat\",FloatType(),False),StructField(\"lng\",FloatType(),False),StructField(\"population\",FloatType(),False),StructField(\"density\",FloatType(),False), StructField(\"timezone\",StringType(),False)]\n",
        "schema"
      ],
      "metadata": {
        "colab": {
          "base_uri": "https://localhost:8080/"
        },
        "id": "eY7F8Rgyj1bw",
        "outputId": "5476dc7c-c59e-4910-cc6f-6d430f09e8f8"
      },
      "execution_count": null,
      "outputs": [
        {
          "output_type": "execute_result",
          "data": {
            "text/plain": [
              "[StructField(_c0,IntegerType,false),\n",
              " StructField(CBSA Code,IntegerType,false),\n",
              " StructField(Date,DateType,false),\n",
              " StructField(year,IntegerType,false),\n",
              " StructField(month,StringType,false),\n",
              " StructField(day,IntegerType,false),\n",
              " StructField(AQI,IntegerType,false),\n",
              " StructField(Category,StringType,false),\n",
              " StructField(Defining Parameter,StringType,false),\n",
              " StructField(Number of Sites Reporting,IntegerType,false),\n",
              " StructField(city_ascii,StringType,false),\n",
              " StructField(state_id,StringType,false),\n",
              " StructField(state_name,StringType,false),\n",
              " StructField(lat,FloatType,false),\n",
              " StructField(lng,FloatType,false),\n",
              " StructField(population,FloatType,false),\n",
              " StructField(density,FloatType,false),\n",
              " StructField(timezone,StringType,false)]"
            ]
          },
          "metadata": {},
          "execution_count": 169
        }
      ]
    },
    {
      "cell_type": "code",
      "source": [
        "# Pass in our fields\n",
        "final = StructType(fields=schema)\n",
        "final"
      ],
      "metadata": {
        "colab": {
          "base_uri": "https://localhost:8080/"
        },
        "id": "VFX5jkjimwoA",
        "outputId": "dba9faa9-65fc-4aa8-a128-a0e4fcde9807"
      },
      "execution_count": null,
      "outputs": [
        {
          "output_type": "execute_result",
          "data": {
            "text/plain": [
              "StructType(List(StructField(_c0,IntegerType,false),StructField(CBSA Code,IntegerType,false),StructField(Date,DateType,false),StructField(year,IntegerType,false),StructField(month,StringType,false),StructField(day,IntegerType,false),StructField(AQI,IntegerType,false),StructField(Category,StringType,false),StructField(Defining Parameter,StringType,false),StructField(Number of Sites Reporting,IntegerType,false),StructField(city_ascii,StringType,false),StructField(state_id,StringType,false),StructField(state_name,StringType,false),StructField(lat,FloatType,false),StructField(lng,FloatType,false),StructField(population,FloatType,false),StructField(density,FloatType,false),StructField(timezone,StringType,false)))"
            ]
          },
          "metadata": {},
          "execution_count": 170
        }
      ]
    },
    {
      "cell_type": "code",
      "source": [
        "# Update dataframe based on new schema\n",
        "user_data_df1 = spark.read.csv(SparkFiles.get(\"ncaqi.csv\"),schema=final, sep=\",\", header=True)\n",
        "user_data_df1.printSchema()"
      ],
      "metadata": {
        "colab": {
          "base_uri": "https://localhost:8080/"
        },
        "id": "pwo70I3Sm9k9",
        "outputId": "f6cd1bf8-e9cd-43d6-dcca-f715660f29f8"
      },
      "execution_count": null,
      "outputs": [
        {
          "output_type": "stream",
          "name": "stdout",
          "text": [
            "root\n",
            " |-- _c0: integer (nullable = true)\n",
            " |-- CBSA Code: integer (nullable = true)\n",
            " |-- Date: date (nullable = true)\n",
            " |-- year: integer (nullable = true)\n",
            " |-- month: string (nullable = true)\n",
            " |-- day: integer (nullable = true)\n",
            " |-- AQI: integer (nullable = true)\n",
            " |-- Category: string (nullable = true)\n",
            " |-- Defining Parameter: string (nullable = true)\n",
            " |-- Number of Sites Reporting: integer (nullable = true)\n",
            " |-- city_ascii: string (nullable = true)\n",
            " |-- state_id: string (nullable = true)\n",
            " |-- state_name: string (nullable = true)\n",
            " |-- lat: float (nullable = true)\n",
            " |-- lng: float (nullable = true)\n",
            " |-- population: float (nullable = true)\n",
            " |-- density: float (nullable = true)\n",
            " |-- timezone: string (nullable = true)\n",
            "\n"
          ]
        }
      ]
    },
    {
      "cell_type": "code",
      "source": [
        "# Create dataframe to match AirQuality table\n",
        "airquality_df = user_data_df1.select(['_c0','CBSA Code','Date','year','month','day','AQI','Category','Defining Parameter'])\n",
        "airquality_df.show()"
      ],
      "metadata": {
        "colab": {
          "base_uri": "https://localhost:8080/"
        },
        "id": "bvsmT3RVPv3w",
        "outputId": "3596858c-e4f1-4248-8679-4d704a5b2e1c"
      },
      "execution_count": null,
      "outputs": [
        {
          "output_type": "stream",
          "name": "stdout",
          "text": [
            "+----+---------+----------+----+-----+---+---+--------+------------------+\n",
            "| _c0|CBSA Code|      Date|year|month|day|AQI|Category|Defining Parameter|\n",
            "+----+---------+----------+----+-----+---+---+--------+------------------+\n",
            "|4279|    16740|2022-01-01|2022|    1|  1| 28|    Good|             PM2.5|\n",
            "|4280|    16740|2022-01-02|2022|    1|  2| 29|    Good|             Ozone|\n",
            "|4281|    16740|2022-01-03|2022|    1|  3| 31|    Good|             Ozone|\n",
            "|4282|    16740|2022-01-04|2022|    1|  4| 31|    Good|             Ozone|\n",
            "|4283|    16740|2022-01-05|2022|    1|  5| 34|    Good|             Ozone|\n",
            "|4284|    16740|2022-01-06|2022|    1|  6| 42|    Good|             PM2.5|\n",
            "|4285|    16740|2022-01-07|2022|    1|  7| 32|    Good|             Ozone|\n",
            "|4286|    16740|2022-01-08|2022|    1|  8| 33|    Good|             PM2.5|\n",
            "|4287|    16740|2022-01-09|2022|    1|  9| 38|    Good|             PM2.5|\n",
            "|4288|    16740|2022-01-10|2022|    1| 10| 36|    Good|             Ozone|\n",
            "|4289|    16740|2022-01-11|2022|    1| 11| 34|    Good|             Ozone|\n",
            "|4290|    16740|2022-01-12|2022|    1| 12| 38|    Good|             PM2.5|\n",
            "|4291|    16740|2022-01-13|2022|    1| 13| 56|Moderate|             PM2.5|\n",
            "|4292|    16740|2022-01-14|2022|    1| 14| 44|    Good|             PM2.5|\n",
            "|4293|    16740|2022-01-15|2022|    1| 15| 47|    Good|             PM2.5|\n",
            "|4294|    16740|2022-01-16|2022|    1| 16| 31|    Good|             Ozone|\n",
            "|4295|    16740|2022-01-17|2022|    1| 17| 35|    Good|             Ozone|\n",
            "|4296|    16740|2022-01-18|2022|    1| 18| 35|    Good|             Ozone|\n",
            "|4297|    16740|2022-01-19|2022|    1| 19| 48|    Good|             PM2.5|\n",
            "|4298|    16740|2022-01-20|2022|    1| 20| 43|    Good|             PM2.5|\n",
            "+----+---------+----------+----+-----+---+---+--------+------------------+\n",
            "only showing top 20 rows\n",
            "\n"
          ]
        }
      ]
    },
    {
      "cell_type": "code",
      "source": [
        "# Create the dataframe to match Site Reporting Table\n",
        "site_reporting_df = user_data_df1.select(['_c0','CBSA Code', 'Number of Sites Reporting', 'city_ascii','state_id', 'state_name', 'lat','lng'])\n",
        "site_reporting_df.show()"
      ],
      "metadata": {
        "colab": {
          "base_uri": "https://localhost:8080/"
        },
        "id": "y3eSogmhRhEr",
        "outputId": "6cbbc447-3629-4103-c37e-c6ba70df23f8"
      },
      "execution_count": null,
      "outputs": [
        {
          "output_type": "stream",
          "name": "stdout",
          "text": [
            "+----+---------+-------------------------+----------+--------+--------------+-------+--------+\n",
            "| _c0|CBSA Code|Number of Sites Reporting|city_ascii|state_id|    state_name|    lat|     lng|\n",
            "+----+---------+-------------------------+----------+--------+--------------+-------+--------+\n",
            "|4279|    16740|                        5| Charlotte|      NC|North Carolina|35.2083|-80.8303|\n",
            "|4280|    16740|                        5| Charlotte|      NC|North Carolina|35.2083|-80.8303|\n",
            "|4281|    16740|                        5| Charlotte|      NC|North Carolina|35.2083|-80.8303|\n",
            "|4282|    16740|                        5| Charlotte|      NC|North Carolina|35.2083|-80.8303|\n",
            "|4283|    16740|                        5| Charlotte|      NC|North Carolina|35.2083|-80.8303|\n",
            "|4284|    16740|                        5| Charlotte|      NC|North Carolina|35.2083|-80.8303|\n",
            "|4285|    16740|                        5| Charlotte|      NC|North Carolina|35.2083|-80.8303|\n",
            "|4286|    16740|                        5| Charlotte|      NC|North Carolina|35.2083|-80.8303|\n",
            "|4287|    16740|                        5| Charlotte|      NC|North Carolina|35.2083|-80.8303|\n",
            "|4288|    16740|                        5| Charlotte|      NC|North Carolina|35.2083|-80.8303|\n",
            "|4289|    16740|                        5| Charlotte|      NC|North Carolina|35.2083|-80.8303|\n",
            "|4290|    16740|                        5| Charlotte|      NC|North Carolina|35.2083|-80.8303|\n",
            "|4291|    16740|                        5| Charlotte|      NC|North Carolina|35.2083|-80.8303|\n",
            "|4292|    16740|                        5| Charlotte|      NC|North Carolina|35.2083|-80.8303|\n",
            "|4293|    16740|                        5| Charlotte|      NC|North Carolina|35.2083|-80.8303|\n",
            "|4294|    16740|                        5| Charlotte|      NC|North Carolina|35.2083|-80.8303|\n",
            "|4295|    16740|                        5| Charlotte|      NC|North Carolina|35.2083|-80.8303|\n",
            "|4296|    16740|                        5| Charlotte|      NC|North Carolina|35.2083|-80.8303|\n",
            "|4297|    16740|                        5| Charlotte|      NC|North Carolina|35.2083|-80.8303|\n",
            "|4298|    16740|                        5| Charlotte|      NC|North Carolina|35.2083|-80.8303|\n",
            "+----+---------+-------------------------+----------+--------+--------------+-------+--------+\n",
            "only showing top 20 rows\n",
            "\n"
          ]
        }
      ]
    },
    {
      "cell_type": "code",
      "source": [
        "# Rename column names\n",
        "airquality_df1= airquality_df.withColumnRenamed(\"CBSA Code\",\"CBSA_Code\")\\\n",
        "               .withColumnRenamed(\"Defining Parameter\",\"Defining_Parameter\")\n",
        "airquality_df1.show()"
      ],
      "metadata": {
        "colab": {
          "base_uri": "https://localhost:8080/"
        },
        "id": "XUkrkmi_Ja9a",
        "outputId": "fb6068e3-baf7-4b65-bdbe-89a94b6159c2"
      },
      "execution_count": null,
      "outputs": [
        {
          "output_type": "stream",
          "name": "stdout",
          "text": [
            "+----+---------+----------+----+-----+---+---+--------+------------------+\n",
            "| _c0|CBSA_Code|      Date|year|month|day|AQI|Category|Defining_Parameter|\n",
            "+----+---------+----------+----+-----+---+---+--------+------------------+\n",
            "|4279|    16740|2022-01-01|2022|    1|  1| 28|    Good|             PM2.5|\n",
            "|4280|    16740|2022-01-02|2022|    1|  2| 29|    Good|             Ozone|\n",
            "|4281|    16740|2022-01-03|2022|    1|  3| 31|    Good|             Ozone|\n",
            "|4282|    16740|2022-01-04|2022|    1|  4| 31|    Good|             Ozone|\n",
            "|4283|    16740|2022-01-05|2022|    1|  5| 34|    Good|             Ozone|\n",
            "|4284|    16740|2022-01-06|2022|    1|  6| 42|    Good|             PM2.5|\n",
            "|4285|    16740|2022-01-07|2022|    1|  7| 32|    Good|             Ozone|\n",
            "|4286|    16740|2022-01-08|2022|    1|  8| 33|    Good|             PM2.5|\n",
            "|4287|    16740|2022-01-09|2022|    1|  9| 38|    Good|             PM2.5|\n",
            "|4288|    16740|2022-01-10|2022|    1| 10| 36|    Good|             Ozone|\n",
            "|4289|    16740|2022-01-11|2022|    1| 11| 34|    Good|             Ozone|\n",
            "|4290|    16740|2022-01-12|2022|    1| 12| 38|    Good|             PM2.5|\n",
            "|4291|    16740|2022-01-13|2022|    1| 13| 56|Moderate|             PM2.5|\n",
            "|4292|    16740|2022-01-14|2022|    1| 14| 44|    Good|             PM2.5|\n",
            "|4293|    16740|2022-01-15|2022|    1| 15| 47|    Good|             PM2.5|\n",
            "|4294|    16740|2022-01-16|2022|    1| 16| 31|    Good|             Ozone|\n",
            "|4295|    16740|2022-01-17|2022|    1| 17| 35|    Good|             Ozone|\n",
            "|4296|    16740|2022-01-18|2022|    1| 18| 35|    Good|             Ozone|\n",
            "|4297|    16740|2022-01-19|2022|    1| 19| 48|    Good|             PM2.5|\n",
            "|4298|    16740|2022-01-20|2022|    1| 20| 43|    Good|             PM2.5|\n",
            "+----+---------+----------+----+-----+---+---+--------+------------------+\n",
            "only showing top 20 rows\n",
            "\n"
          ]
        }
      ]
    },
    {
      "cell_type": "code",
      "source": [
        "airquality_df1.dtypes\n"
      ],
      "metadata": {
        "colab": {
          "base_uri": "https://localhost:8080/"
        },
        "id": "N_yYWhzjNaz_",
        "outputId": "e11f7648-2f8b-4f24-adb4-d8383b2efa82"
      },
      "execution_count": null,
      "outputs": [
        {
          "output_type": "execute_result",
          "data": {
            "text/plain": [
              "[('_c0', 'int'),\n",
              " ('CBSA_Code', 'int'),\n",
              " ('Date', 'date'),\n",
              " ('year', 'int'),\n",
              " ('month', 'string'),\n",
              " ('day', 'int'),\n",
              " ('AQI', 'int'),\n",
              " ('Category', 'string'),\n",
              " ('Defining_Parameter', 'string')]"
            ]
          },
          "metadata": {},
          "execution_count": 175
        }
      ]
    },
    {
      "cell_type": "code",
      "source": [
        ""
      ],
      "metadata": {
        "id": "fun0tvFON4I5"
      },
      "execution_count": null,
      "outputs": []
    },
    {
      "cell_type": "code",
      "source": [
        "#Rename column names\n",
        "site_reporting_df1= site_reporting_df.withColumnRenamed(\"CBSA Code\",\"CBSA_Code\")\\\n",
        "               .withColumnRenamed(\"Number of Sites Reporting\",\"Number_of_Sites_Reporting\")\n",
        "site_reporting_df1.show()"
      ],
      "metadata": {
        "colab": {
          "base_uri": "https://localhost:8080/"
        },
        "id": "K73InXdvKxzT",
        "outputId": "76e63b4c-8ac1-4f9c-f852-958e6eef72c9"
      },
      "execution_count": null,
      "outputs": [
        {
          "output_type": "stream",
          "name": "stdout",
          "text": [
            "+----+---------+-------------------------+----------+--------+--------------+-------+--------+\n",
            "| _c0|CBSA_Code|Number_of_Sites_Reporting|city_ascii|state_id|    state_name|    lat|     lng|\n",
            "+----+---------+-------------------------+----------+--------+--------------+-------+--------+\n",
            "|4279|    16740|                        5| Charlotte|      NC|North Carolina|35.2083|-80.8303|\n",
            "|4280|    16740|                        5| Charlotte|      NC|North Carolina|35.2083|-80.8303|\n",
            "|4281|    16740|                        5| Charlotte|      NC|North Carolina|35.2083|-80.8303|\n",
            "|4282|    16740|                        5| Charlotte|      NC|North Carolina|35.2083|-80.8303|\n",
            "|4283|    16740|                        5| Charlotte|      NC|North Carolina|35.2083|-80.8303|\n",
            "|4284|    16740|                        5| Charlotte|      NC|North Carolina|35.2083|-80.8303|\n",
            "|4285|    16740|                        5| Charlotte|      NC|North Carolina|35.2083|-80.8303|\n",
            "|4286|    16740|                        5| Charlotte|      NC|North Carolina|35.2083|-80.8303|\n",
            "|4287|    16740|                        5| Charlotte|      NC|North Carolina|35.2083|-80.8303|\n",
            "|4288|    16740|                        5| Charlotte|      NC|North Carolina|35.2083|-80.8303|\n",
            "|4289|    16740|                        5| Charlotte|      NC|North Carolina|35.2083|-80.8303|\n",
            "|4290|    16740|                        5| Charlotte|      NC|North Carolina|35.2083|-80.8303|\n",
            "|4291|    16740|                        5| Charlotte|      NC|North Carolina|35.2083|-80.8303|\n",
            "|4292|    16740|                        5| Charlotte|      NC|North Carolina|35.2083|-80.8303|\n",
            "|4293|    16740|                        5| Charlotte|      NC|North Carolina|35.2083|-80.8303|\n",
            "|4294|    16740|                        5| Charlotte|      NC|North Carolina|35.2083|-80.8303|\n",
            "|4295|    16740|                        5| Charlotte|      NC|North Carolina|35.2083|-80.8303|\n",
            "|4296|    16740|                        5| Charlotte|      NC|North Carolina|35.2083|-80.8303|\n",
            "|4297|    16740|                        5| Charlotte|      NC|North Carolina|35.2083|-80.8303|\n",
            "|4298|    16740|                        5| Charlotte|      NC|North Carolina|35.2083|-80.8303|\n",
            "+----+---------+-------------------------+----------+--------+--------------+-------+--------+\n",
            "only showing top 20 rows\n",
            "\n"
          ]
        }
      ]
    },
    {
      "cell_type": "code",
      "source": [
        "site_reporting_df1.dtypes\n"
      ],
      "metadata": {
        "colab": {
          "base_uri": "https://localhost:8080/"
        },
        "id": "PwISDcFIO74g",
        "outputId": "2b3e701d-a2fa-45c4-8246-a38015798e48"
      },
      "execution_count": null,
      "outputs": [
        {
          "output_type": "execute_result",
          "data": {
            "text/plain": [
              "[('_c0', 'int'),\n",
              " ('CBSA_Code', 'int'),\n",
              " ('Number_of_Sites_Reporting', 'int'),\n",
              " ('city_ascii', 'string'),\n",
              " ('state_id', 'string'),\n",
              " ('state_name', 'string'),\n",
              " ('lat', 'float'),\n",
              " ('lng', 'float')]"
            ]
          },
          "metadata": {},
          "execution_count": 177
        }
      ]
    },
    {
      "cell_type": "code",
      "source": [
        "# Create the dataframe to match Population table\n",
        "population_df = user_data_df1.select(['_c0','CBSA Code','city_ascii','state_id', 'population', 'density','timezone'])\n",
        "population_df.show()"
      ],
      "metadata": {
        "colab": {
          "base_uri": "https://localhost:8080/"
        },
        "id": "5l8SP1OgSZTb",
        "outputId": "658dbe50-533d-4722-f5f7-23475a651a38"
      },
      "execution_count": null,
      "outputs": [
        {
          "output_type": "stream",
          "name": "stdout",
          "text": [
            "+----+---------+----------+--------+----------+-------+----------------+\n",
            "| _c0|CBSA Code|city_ascii|state_id|population|density|        timezone|\n",
            "+----+---------+----------+--------+----------+-------+----------------+\n",
            "|4279|    16740| Charlotte|      NC| 1526465.0| 1094.0|America/New_York|\n",
            "|4280|    16740| Charlotte|      NC| 1526465.0| 1094.0|America/New_York|\n",
            "|4281|    16740| Charlotte|      NC| 1526465.0| 1094.0|America/New_York|\n",
            "|4282|    16740| Charlotte|      NC| 1526465.0| 1094.0|America/New_York|\n",
            "|4283|    16740| Charlotte|      NC| 1526465.0| 1094.0|America/New_York|\n",
            "|4284|    16740| Charlotte|      NC| 1526465.0| 1094.0|America/New_York|\n",
            "|4285|    16740| Charlotte|      NC| 1526465.0| 1094.0|America/New_York|\n",
            "|4286|    16740| Charlotte|      NC| 1526465.0| 1094.0|America/New_York|\n",
            "|4287|    16740| Charlotte|      NC| 1526465.0| 1094.0|America/New_York|\n",
            "|4288|    16740| Charlotte|      NC| 1526465.0| 1094.0|America/New_York|\n",
            "|4289|    16740| Charlotte|      NC| 1526465.0| 1094.0|America/New_York|\n",
            "|4290|    16740| Charlotte|      NC| 1526465.0| 1094.0|America/New_York|\n",
            "|4291|    16740| Charlotte|      NC| 1526465.0| 1094.0|America/New_York|\n",
            "|4292|    16740| Charlotte|      NC| 1526465.0| 1094.0|America/New_York|\n",
            "|4293|    16740| Charlotte|      NC| 1526465.0| 1094.0|America/New_York|\n",
            "|4294|    16740| Charlotte|      NC| 1526465.0| 1094.0|America/New_York|\n",
            "|4295|    16740| Charlotte|      NC| 1526465.0| 1094.0|America/New_York|\n",
            "|4296|    16740| Charlotte|      NC| 1526465.0| 1094.0|America/New_York|\n",
            "|4297|    16740| Charlotte|      NC| 1526465.0| 1094.0|America/New_York|\n",
            "|4298|    16740| Charlotte|      NC| 1526465.0| 1094.0|America/New_York|\n",
            "+----+---------+----------+--------+----------+-------+----------------+\n",
            "only showing top 20 rows\n",
            "\n"
          ]
        }
      ]
    },
    {
      "cell_type": "code",
      "source": [
        "#Rename Column Names\n",
        "population_df1= population_df.withColumnRenamed(\"CBSA Code\",\"CBSA_Code\")\n",
        "population_df1.show()"
      ],
      "metadata": {
        "colab": {
          "base_uri": "https://localhost:8080/"
        },
        "id": "6rVfo8dRLKZO",
        "outputId": "45f30a5b-5959-4274-bd25-5da56228b851"
      },
      "execution_count": null,
      "outputs": [
        {
          "output_type": "stream",
          "name": "stdout",
          "text": [
            "+----+---------+----------+--------+----------+-------+----------------+\n",
            "| _c0|CBSA_Code|city_ascii|state_id|population|density|        timezone|\n",
            "+----+---------+----------+--------+----------+-------+----------------+\n",
            "|4279|    16740| Charlotte|      NC| 1526465.0| 1094.0|America/New_York|\n",
            "|4280|    16740| Charlotte|      NC| 1526465.0| 1094.0|America/New_York|\n",
            "|4281|    16740| Charlotte|      NC| 1526465.0| 1094.0|America/New_York|\n",
            "|4282|    16740| Charlotte|      NC| 1526465.0| 1094.0|America/New_York|\n",
            "|4283|    16740| Charlotte|      NC| 1526465.0| 1094.0|America/New_York|\n",
            "|4284|    16740| Charlotte|      NC| 1526465.0| 1094.0|America/New_York|\n",
            "|4285|    16740| Charlotte|      NC| 1526465.0| 1094.0|America/New_York|\n",
            "|4286|    16740| Charlotte|      NC| 1526465.0| 1094.0|America/New_York|\n",
            "|4287|    16740| Charlotte|      NC| 1526465.0| 1094.0|America/New_York|\n",
            "|4288|    16740| Charlotte|      NC| 1526465.0| 1094.0|America/New_York|\n",
            "|4289|    16740| Charlotte|      NC| 1526465.0| 1094.0|America/New_York|\n",
            "|4290|    16740| Charlotte|      NC| 1526465.0| 1094.0|America/New_York|\n",
            "|4291|    16740| Charlotte|      NC| 1526465.0| 1094.0|America/New_York|\n",
            "|4292|    16740| Charlotte|      NC| 1526465.0| 1094.0|America/New_York|\n",
            "|4293|    16740| Charlotte|      NC| 1526465.0| 1094.0|America/New_York|\n",
            "|4294|    16740| Charlotte|      NC| 1526465.0| 1094.0|America/New_York|\n",
            "|4295|    16740| Charlotte|      NC| 1526465.0| 1094.0|America/New_York|\n",
            "|4296|    16740| Charlotte|      NC| 1526465.0| 1094.0|America/New_York|\n",
            "|4297|    16740| Charlotte|      NC| 1526465.0| 1094.0|America/New_York|\n",
            "|4298|    16740| Charlotte|      NC| 1526465.0| 1094.0|America/New_York|\n",
            "+----+---------+----------+--------+----------+-------+----------------+\n",
            "only showing top 20 rows\n",
            "\n"
          ]
        }
      ]
    },
    {
      "cell_type": "code",
      "source": [
        "population_df1.dtypes"
      ],
      "metadata": {
        "colab": {
          "base_uri": "https://localhost:8080/"
        },
        "id": "T8-m1nKIPEDR",
        "outputId": "d3b7a31b-2b98-4df7-aa7f-d90117d6cf8f"
      },
      "execution_count": null,
      "outputs": [
        {
          "output_type": "execute_result",
          "data": {
            "text/plain": [
              "[('_c0', 'int'),\n",
              " ('CBSA_Code', 'int'),\n",
              " ('city_ascii', 'string'),\n",
              " ('state_id', 'string'),\n",
              " ('population', 'float'),\n",
              " ('density', 'float'),\n",
              " ('timezone', 'string')]"
            ]
          },
          "metadata": {},
          "execution_count": 180
        }
      ]
    },
    {
      "cell_type": "code",
      "source": [
        "from pyspark.sql.functions import to_date\n"
      ],
      "metadata": {
        "id": "vbN4yRqITOEt"
      },
      "execution_count": null,
      "outputs": []
    },
    {
      "cell_type": "code",
      "source": [
        "# Configure settings for RDS\n",
        "mode = \"append\"\n",
        "#jdbc_url=\"jdbc:postgresql://geisteam4.coe2ggfhl77s.us-east-1.rds.amazonaws.com\"\n",
        "jdbc_url=\"jdbc:postgresql://geisteam4.coe2ggfhl77s.us-east-1.rds.amazonaws.com:5432/postgres\"\n",
        "config = {\"user\":\"postgres\", \n",
        "          \"password\": \"geisadmin01\", \n",
        "          \"driver\":\"org.postgresql.Driver\"}"
      ],
      "metadata": {
        "id": "9S6d8D19TZ8-"
      },
      "execution_count": null,
      "outputs": []
    },
    {
      "cell_type": "code",
      "source": [
        "# Write airquality_df to table in RDS\n",
        "airquality_df1.write.jdbc(url=jdbc_url, table='air_quality_table', mode=mode, properties=config)"
      ],
      "metadata": {
        "id": "V_Iu6JrwT1w5"
      },
      "execution_count": null,
      "outputs": []
    },
    {
      "cell_type": "code",
      "source": [
        "# Write site_reporting_df to table in RDS\n",
        "site_reporting_df1.write.jdbc(url=jdbc_url, table='site_reporting_table', mode=mode, properties=config)"
      ],
      "metadata": {
        "id": "ve3ijuDF2HpL"
      },
      "execution_count": null,
      "outputs": []
    },
    {
      "cell_type": "code",
      "source": [
        "# Write site_reporting_df to table in RDS\n",
        "population_df1.write.jdbc(url=jdbc_url, table='population_table', mode=mode, properties=config)"
      ],
      "metadata": {
        "id": "Xz1smWo62YBe"
      },
      "execution_count": null,
      "outputs": []
    }
  ]
}